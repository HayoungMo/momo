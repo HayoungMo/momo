{
  "nbformat": 4,
  "nbformat_minor": 0,
  "metadata": {
    "colab": {
      "name": "Untitled0.ipynb",
      "provenance": [],
      "authorship_tag": "ABX9TyOPLho1yQKA2pXmPssxGj4o",
      "include_colab_link": true
    },
    "kernelspec": {
      "name": "python3",
      "display_name": "Python 3"
    }
  },
  "cells": [
    {
      "cell_type": "markdown",
      "metadata": {
        "id": "view-in-github",
        "colab_type": "text"
      },
      "source": [
        "<a href=\"https://colab.research.google.com/github/HayoungMo/momo/blob/master/Untitled0.ipynb\" target=\"_parent\"><img src=\"https://colab.research.google.com/assets/colab-badge.svg\" alt=\"Open In Colab\"/></a>"
      ]
    },
    {
      "cell_type": "markdown",
      "metadata": {
        "id": "QaSGYQBmXcOO",
        "colab_type": "text"
      },
      "source": [
        "#제목\n",
        "######제목\n",
        "**강조해주세요**\n",
        "__강조해주세요__\n",
        "세일 전 ~~40,000원~~\n",
        "*이탤릭체*\n",
        "_강조해주세요_\n",
        "* 리스트1\n",
        " * 하위리스트\n",
        "+ 리스트2\n",
        " + 하위리스트\n",
        "1.메뉴를 정하세요\n",
        "2.포장 하실 것간요?\n",
        "3.결제는 어떻게 하시겠어요?\n",
        "> 왜그래, 맥시무스\n",
        "* * *\n",
        "***\n",
        "*****\n",
        "- - -\n",
        "--------------\n",
        "[Google](http://google.com) \n",
        "![Alt text](/path/to/img.jpg \"name\")\n"
      ]
    },
    {
      "cell_type": "code",
      "metadata": {
        "id": "buDgmzQnbKHv",
        "colab_type": "code",
        "colab": {}
      },
      "source": [
        "# 환영인사 함수\n",
        " def hello(name):\n",
        "  return f'환영합니다. {name}님!'"
      ],
      "execution_count": 0,
      "outputs": []
    },
    {
      "cell_type": "code",
      "metadata": {
        "id": "gRhGRb1PblNA",
        "colab_type": "code",
        "colab": {
          "base_uri": "https://localhost:8080/",
          "height": 208
        },
        "outputId": "47b064eb-760f-404b-a83a-11e8affcf140"
      },
      "source": [
        "name = input('이름을 입력해주세요')\n",
        "hello(name)"
      ],
      "execution_count": 9,
      "outputs": [
        {
          "output_type": "stream",
          "text": [
            "이름을 입력해주세요하여ㅛㅇ\n"
          ],
          "name": "stdout"
        },
        {
          "output_type": "error",
          "ename": "NameError",
          "evalue": "ignored",
          "traceback": [
            "\u001b[0;31m---------------------------------------------------------------------------\u001b[0m",
            "\u001b[0;31mNameError\u001b[0m                                 Traceback (most recent call last)",
            "\u001b[0;32m<ipython-input-9-1f4e4d14ed56>\u001b[0m in \u001b[0;36m<module>\u001b[0;34m()\u001b[0m\n\u001b[1;32m      1\u001b[0m \u001b[0mname\u001b[0m \u001b[0;34m=\u001b[0m \u001b[0minput\u001b[0m\u001b[0;34m(\u001b[0m\u001b[0;34m'이름을 입력해주세요'\u001b[0m\u001b[0;34m)\u001b[0m\u001b[0;34m\u001b[0m\u001b[0;34m\u001b[0m\u001b[0m\n\u001b[0;32m----> 2\u001b[0;31m \u001b[0mhello\u001b[0m\u001b[0;34m(\u001b[0m\u001b[0mname\u001b[0m\u001b[0;34m)\u001b[0m\u001b[0;34m\u001b[0m\u001b[0;34m\u001b[0m\u001b[0m\n\u001b[0m",
            "\u001b[0;31mNameError\u001b[0m: name 'hello' is not defined"
          ]
        }
      ]
    }
  ]
}